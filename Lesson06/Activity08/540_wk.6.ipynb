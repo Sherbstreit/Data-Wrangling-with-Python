{
 "cells": [
  {
   "cell_type": "code",
   "execution_count": 37,
   "metadata": {},
   "outputs": [],
   "source": [
    "import pandas as pd\n",
    "import numpy as np\n",
    "import matplotlib.pyplot as plt\n",
    "\n",
    "%matplotlib inline"
   ]
  },
  {
   "cell_type": "code",
   "execution_count": 38,
   "metadata": {},
   "outputs": [
    {
     "data": {
      "text/html": [
       "<div>\n",
       "<style scoped>\n",
       "    .dataframe tbody tr th:only-of-type {\n",
       "        vertical-align: middle;\n",
       "    }\n",
       "\n",
       "    .dataframe tbody tr th {\n",
       "        vertical-align: top;\n",
       "    }\n",
       "\n",
       "    .dataframe thead th {\n",
       "        text-align: right;\n",
       "    }\n",
       "</style>\n",
       "<table border=\"1\" class=\"dataframe\">\n",
       "  <thead>\n",
       "    <tr style=\"text-align: right;\">\n",
       "      <th></th>\n",
       "      <th>id</th>\n",
       "      <th>first_name</th>\n",
       "      <th>last_name</th>\n",
       "      <th>email</th>\n",
       "      <th>gender</th>\n",
       "      <th>ip_address</th>\n",
       "      <th>visit</th>\n",
       "    </tr>\n",
       "  </thead>\n",
       "  <tbody>\n",
       "    <tr>\n",
       "      <th>0</th>\n",
       "      <td>1</td>\n",
       "      <td>Sonny</td>\n",
       "      <td>Dahl</td>\n",
       "      <td>sdahl0@mysql.com</td>\n",
       "      <td>Male</td>\n",
       "      <td>135.36.96.183</td>\n",
       "      <td>1225.0</td>\n",
       "    </tr>\n",
       "    <tr>\n",
       "      <th>1</th>\n",
       "      <td>2</td>\n",
       "      <td>NaN</td>\n",
       "      <td>NaN</td>\n",
       "      <td>dhoovart1@hud.gov</td>\n",
       "      <td>NaN</td>\n",
       "      <td>237.165.194.143</td>\n",
       "      <td>919.0</td>\n",
       "    </tr>\n",
       "    <tr>\n",
       "      <th>2</th>\n",
       "      <td>3</td>\n",
       "      <td>Gar</td>\n",
       "      <td>Armal</td>\n",
       "      <td>garmal2@technorati.com</td>\n",
       "      <td>NaN</td>\n",
       "      <td>166.43.137.224</td>\n",
       "      <td>271.0</td>\n",
       "    </tr>\n",
       "    <tr>\n",
       "      <th>3</th>\n",
       "      <td>4</td>\n",
       "      <td>Chiarra</td>\n",
       "      <td>Nulty</td>\n",
       "      <td>cnulty3@newyorker.com</td>\n",
       "      <td>NaN</td>\n",
       "      <td>139.98.137.108</td>\n",
       "      <td>1002.0</td>\n",
       "    </tr>\n",
       "    <tr>\n",
       "      <th>4</th>\n",
       "      <td>5</td>\n",
       "      <td>NaN</td>\n",
       "      <td>NaN</td>\n",
       "      <td>sleaver4@elegantthemes.com</td>\n",
       "      <td>NaN</td>\n",
       "      <td>46.117.117.27</td>\n",
       "      <td>2434.0</td>\n",
       "    </tr>\n",
       "  </tbody>\n",
       "</table>\n",
       "</div>"
      ],
      "text/plain": [
       "   id first_name last_name                       email gender  \\\n",
       "0   1      Sonny      Dahl            sdahl0@mysql.com   Male   \n",
       "1   2        NaN       NaN           dhoovart1@hud.gov    NaN   \n",
       "2   3        Gar     Armal      garmal2@technorati.com    NaN   \n",
       "3   4    Chiarra     Nulty       cnulty3@newyorker.com    NaN   \n",
       "4   5        NaN       NaN  sleaver4@elegantthemes.com    NaN   \n",
       "\n",
       "        ip_address   visit  \n",
       "0    135.36.96.183  1225.0  \n",
       "1  237.165.194.143   919.0  \n",
       "2   166.43.137.224   271.0  \n",
       "3   139.98.137.108  1002.0  \n",
       "4    46.117.117.27  2434.0  "
      ]
     },
     "execution_count": 38,
     "metadata": {},
     "output_type": "execute_result"
    }
   ],
   "source": [
    "# read df\n",
    "df = pd.read_csv(\"visit_data.csv\")\n",
    "df.head()"
   ]
  },
  {
   "cell_type": "code",
   "execution_count": 39,
   "metadata": {},
   "outputs": [
    {
     "name": "stdout",
     "output_type": "stream",
     "text": [
      "There are 0 duplicated rows in this df\n"
     ]
    }
   ],
   "source": [
    "# check for duplicate rows in overall df\n",
    "duplicate = df[df.duplicated(keep = 'last')]\n",
    "print('There are',len(duplicate),'duplicated rows in this df')"
   ]
  },
  {
   "cell_type": "code",
   "execution_count": 40,
   "metadata": {},
   "outputs": [],
   "source": [
    "# check for duplicates by columns\n",
    "email_dup = df[df.duplicated('email')] \n",
    "ip_dup = df[df.duplicated('ip_address')] \n",
    "last_dup = df[df.duplicated('last_name')] "
   ]
  },
  {
   "cell_type": "code",
   "execution_count": 41,
   "metadata": {},
   "outputs": [
    {
     "name": "stdout",
     "output_type": "stream",
     "text": [
      "there are 0 duplicated email addresses.\n",
      "there are 0 duplicated IP addresses.\n",
      "there are 299 duplicated last names.\n"
     ]
    }
   ],
   "source": [
    "# print duplicate results\n",
    "print('there are',len(email_dup), 'duplicated email addresses.')\n",
    "print('there are',len(ip_dup), 'duplicated IP addresses.')\n",
    "print('there are',len(last_dup), 'duplicated last names.')"
   ]
  },
  {
   "cell_type": "code",
   "execution_count": 42,
   "metadata": {},
   "outputs": [
    {
     "data": {
      "text/html": [
       "<div>\n",
       "<style scoped>\n",
       "    .dataframe tbody tr th:only-of-type {\n",
       "        vertical-align: middle;\n",
       "    }\n",
       "\n",
       "    .dataframe tbody tr th {\n",
       "        vertical-align: top;\n",
       "    }\n",
       "\n",
       "    .dataframe thead th {\n",
       "        text-align: right;\n",
       "    }\n",
       "</style>\n",
       "<table border=\"1\" class=\"dataframe\">\n",
       "  <thead>\n",
       "    <tr style=\"text-align: right;\">\n",
       "      <th></th>\n",
       "      <th>id</th>\n",
       "      <th>first_name</th>\n",
       "      <th>last_name</th>\n",
       "      <th>email</th>\n",
       "      <th>gender</th>\n",
       "      <th>ip_address</th>\n",
       "      <th>visit</th>\n",
       "    </tr>\n",
       "  </thead>\n",
       "  <tbody>\n",
       "    <tr>\n",
       "      <th>4</th>\n",
       "      <td>5</td>\n",
       "      <td>NaN</td>\n",
       "      <td>NaN</td>\n",
       "      <td>sleaver4@elegantthemes.com</td>\n",
       "      <td>NaN</td>\n",
       "      <td>46.117.117.27</td>\n",
       "      <td>2434.0</td>\n",
       "    </tr>\n",
       "    <tr>\n",
       "      <th>7</th>\n",
       "      <td>8</td>\n",
       "      <td>NaN</td>\n",
       "      <td>NaN</td>\n",
       "      <td>mdewilde7@creativecommons.org</td>\n",
       "      <td>Female</td>\n",
       "      <td>229.215.244.227</td>\n",
       "      <td>537.0</td>\n",
       "    </tr>\n",
       "    <tr>\n",
       "      <th>11</th>\n",
       "      <td>12</td>\n",
       "      <td>NaN</td>\n",
       "      <td>NaN</td>\n",
       "      <td>jmccotterb@ning.com</td>\n",
       "      <td>NaN</td>\n",
       "      <td>180.112.224.129</td>\n",
       "      <td>127.0</td>\n",
       "    </tr>\n",
       "    <tr>\n",
       "      <th>13</th>\n",
       "      <td>14</td>\n",
       "      <td>NaN</td>\n",
       "      <td>NaN</td>\n",
       "      <td>gkippied@infoseek.co.jp</td>\n",
       "      <td>NaN</td>\n",
       "      <td>248.75.123.182</td>\n",
       "      <td>1867.0</td>\n",
       "    </tr>\n",
       "    <tr>\n",
       "      <th>15</th>\n",
       "      <td>16</td>\n",
       "      <td>NaN</td>\n",
       "      <td>NaN</td>\n",
       "      <td>wclowleyf@usda.gov</td>\n",
       "      <td>Male</td>\n",
       "      <td>45.37.121.91</td>\n",
       "      <td>1331.0</td>\n",
       "    </tr>\n",
       "  </tbody>\n",
       "</table>\n",
       "</div>"
      ],
      "text/plain": [
       "    id first_name last_name                          email  gender  \\\n",
       "4    5        NaN       NaN     sleaver4@elegantthemes.com     NaN   \n",
       "7    8        NaN       NaN  mdewilde7@creativecommons.org  Female   \n",
       "11  12        NaN       NaN            jmccotterb@ning.com     NaN   \n",
       "13  14        NaN       NaN        gkippied@infoseek.co.jp     NaN   \n",
       "15  16        NaN       NaN             wclowleyf@usda.gov    Male   \n",
       "\n",
       "         ip_address   visit  \n",
       "4     46.117.117.27  2434.0  \n",
       "7   229.215.244.227   537.0  \n",
       "11  180.112.224.129   127.0  \n",
       "13   248.75.123.182  1867.0  \n",
       "15     45.37.121.91  1331.0  "
      ]
     },
     "execution_count": 42,
     "metadata": {},
     "output_type": "execute_result"
    }
   ],
   "source": [
    "# check last name duplicates\n",
    "last_dup.head()"
   ]
  },
  {
   "cell_type": "code",
   "execution_count": 43,
   "metadata": {},
   "outputs": [],
   "source": [
    "# check for NaN values in essential columns\n",
    "nan_email =  df.email.isnull().values.any()\n",
    "nan_ip = df.ip_address.isnull().values.any()\n",
    "nan_visit = df.visit.isnull().values.any()"
   ]
  },
  {
   "cell_type": "code",
   "execution_count": 44,
   "metadata": {},
   "outputs": [
    {
     "name": "stdout",
     "output_type": "stream",
     "text": [
      "Are there NaN email values? False\n",
      "Are there NaN IP address values? False\n",
      "Are there NaN visit values? True\n"
     ]
    }
   ],
   "source": [
    "# display results\n",
    "print('Are there NaN email values?',nan_email)\n",
    "print('Are there NaN IP address values?',nan_ip)\n",
    "print('Are there NaN visit values?',nan_visit)"
   ]
  },
  {
   "cell_type": "code",
   "execution_count": 45,
   "metadata": {},
   "outputs": [],
   "source": [
    "# remove rows with NaN values in visit column\n",
    "df1 = df.dropna(subset=['visit'])"
   ]
  },
  {
   "cell_type": "code",
   "execution_count": 46,
   "metadata": {},
   "outputs": [
    {
     "data": {
      "text/plain": [
       "False"
      ]
     },
     "execution_count": 46,
     "metadata": {},
     "output_type": "execute_result"
    }
   ],
   "source": [
    "# check to make sure they are removed\n",
    "nan_visit = df1.visit.isnull().values.any()\n",
    "nan_visit"
   ]
  },
  {
   "cell_type": "code",
   "execution_count": 68,
   "metadata": {},
   "outputs": [
    {
     "name": "stdout",
     "output_type": "stream",
     "text": [
      "The full df has 1000 rows, but after removing NaN values from the visit column we have 923 rows.\n",
      "\n",
      " This is a difference of 77 rows.\n"
     ]
    }
   ],
   "source": [
    "# show difference\n",
    "print('The full df has', len(df), 'rows, but after removing NaN values from the visit column we have',\n",
    "     len(df1), 'rows.\\n\\n This is a difference of', len(df)-len(df1), 'rows.')"
   ]
  },
  {
   "cell_type": "code",
   "execution_count": 69,
   "metadata": {},
   "outputs": [
    {
     "data": {
      "text/plain": [
       "{'whiskers': [<matplotlib.lines.Line2D at 0x1213a92e0>,\n",
       "  <matplotlib.lines.Line2D at 0x1213a9640>],\n",
       " 'caps': [<matplotlib.lines.Line2D at 0x1213a99a0>,\n",
       "  <matplotlib.lines.Line2D at 0x1213a9d00>],\n",
       " 'boxes': [<matplotlib.lines.Line2D at 0x12139bf40>],\n",
       " 'medians': [<matplotlib.lines.Line2D at 0x1213b40a0>],\n",
       " 'fliers': [<matplotlib.lines.Line2D at 0x1213b43a0>],\n",
       " 'means': []}"
      ]
     },
     "execution_count": 69,
     "metadata": {},
     "output_type": "execute_result"
    },
    {
     "data": {
      "image/png": "[encoded data removed]",
      "text/plain": [
       "<Figure size 432x288 with 1 Axes>"
      ]
     },
     "metadata": {
      "needs_background": "light"
     },
     "output_type": "display_data"
    }
   ],
   "source": [
    "# show spread of visit \n",
    "plt.boxplot(df1.visit)"
   ]
  },
  {
   "cell_type": "code",
   "execution_count": 72,
   "metadata": {},
   "outputs": [],
   "source": [
    "# choose parameters to define outliers and create new df without them\n",
    "df2 = df1[(df1['visit'] <= 2900) & (df1['visit'] >= 100)]"
   ]
  },
  {
   "cell_type": "code",
   "execution_count": 73,
   "metadata": {},
   "outputs": [
    {
     "name": "stdout",
     "output_type": "stream",
     "text": [
      "After removing outliers from the visit column we have 923 rows.\n"
     ]
    }
   ],
   "source": [
    "print('After removing outliers from the visit column we have',len(df2), 'rows.')"
   ]
  },
  {
   "cell_type": "code",
   "execution_count": null,
   "metadata": {},
   "outputs": [],
   "source": []
  }
 ],
 "metadata": {
  "kernelspec": {
   "display_name": "Python 3",
   "language": "python",
   "name": "python3"
  },
  "language_info": {
   "codemirror_mode": {
    "name": "ipython",
    "version": 3
   },
   "file_extension": ".py",
   "mimetype": "text/x-python",
   "name": "python",
   "nbconvert_exporter": "python",
   "pygments_lexer": "ipython3",
   "version": "3.8.3"
  }
 },
 "nbformat": 4,
 "nbformat_minor": 4
}
