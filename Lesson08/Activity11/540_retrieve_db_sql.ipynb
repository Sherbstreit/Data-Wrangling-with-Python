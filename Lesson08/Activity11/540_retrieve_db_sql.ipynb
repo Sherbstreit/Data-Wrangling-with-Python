{
 "cells": [
  {
   "cell_type": "code",
   "execution_count": 3,
   "metadata": {},
   "outputs": [],
   "source": [
    "import sqlite3"
   ]
  },
  {
   "cell_type": "code",
   "execution_count": 4,
   "metadata": {},
   "outputs": [],
   "source": [
    "# connect to db\n",
    "conn = sqlite3.connect('petsdb')"
   ]
  },
  {
   "cell_type": "code",
   "execution_count": 5,
   "metadata": {},
   "outputs": [],
   "source": [
    "# function to check if connection was successful\n",
    "def check_conn(conn):\n",
    "  if (conn):\n",
    "    conn.execute(\"SELECT count(*) FROM pets\")\n",
    "    print(\"Connection successful\")\n",
    "  else:\n",
    "    print(\"Connection unsuccessful\")"
   ]
  },
  {
   "cell_type": "code",
   "execution_count": 6,
   "metadata": {},
   "outputs": [
    {
     "name": "stdout",
     "output_type": "stream",
     "text": [
      "Connection successful\n"
     ]
    }
   ],
   "source": [
    "# check connection\n",
    "check_conn(conn)"
   ]
  },
  {
   "cell_type": "code",
   "execution_count": 7,
   "metadata": {},
   "outputs": [],
   "source": [
    "# create cursor object\n",
    "c = conn.cursor()"
   ]
  },
  {
   "cell_type": "code",
   "execution_count": 8,
   "metadata": {},
   "outputs": [
    {
     "name": "stdout",
     "output_type": "stream",
     "text": [
      "2 people are 5 years old\n",
      "1 people are 6 years old\n",
      "1 people are 7 years old\n",
      "3 people are 8 years old\n",
      "1 people are 9 years old\n",
      "2 people are 11 years old\n",
      "3 people are 12 years old\n",
      "1 people are 13 years old\n",
      "4 people are 14 years old\n",
      "2 people are 16 years old\n",
      "2 people are 17 years old\n",
      "3 people are 18 years old\n",
      "1 people are 19 years old\n",
      "3 people are 22 years old\n",
      "2 people are 23 years old\n",
      "3 people are 24 years old\n",
      "2 people are 25 years old\n",
      "1 people are 27 years old\n",
      "1 people are 30 years old\n",
      "3 people are 31 years old\n",
      "1 people are 32 years old\n",
      "1 people are 33 years old\n",
      "2 people are 34 years old\n",
      "3 people are 35 years old\n",
      "3 people are 36 years old\n",
      "1 people are 37 years old\n",
      "2 people are 39 years old\n",
      "1 people are 40 years old\n",
      "1 people are 42 years old\n",
      "2 people are 44 years old\n",
      "2 people are 48 years old\n",
      "1 people are 49 years old\n",
      "1 people are 50 years old\n",
      "2 people are 51 years old\n",
      "2 people are 52 years old\n",
      "2 people are 53 years old\n",
      "2 people are 54 years old\n",
      "1 people are 58 years old\n",
      "1 people are 59 years old\n",
      "1 people are 60 years old\n",
      "1 people are 61 years old\n",
      "2 people are 62 years old\n",
      "1 people are 63 years old\n",
      "2 people are 65 years old\n",
      "2 people are 66 years old\n",
      "1 people are 67 years old\n",
      "3 people are 68 years old\n",
      "1 people are 69 years old\n",
      "1 people are 70 years old\n",
      "4 people are 71 years old\n",
      "1 people are 72 years old\n",
      "5 people are 73 years old\n",
      "3 people are 74 years old\n"
     ]
    }
   ],
   "source": [
    "# group persons database by ages\n",
    "for ppl, age in c.execute(\"SELECT count(*), age FROM persons GROUP BY age\"):\n",
    "    print(\"{} people are {} years old\".format(ppl, age))"
   ]
  },
  {
   "cell_type": "code",
   "execution_count": 32,
   "metadata": {},
   "outputs": [
    {
     "name": "stdout",
     "output_type": "stream",
     "text": [
      "The group with the most people is age 73 with 5 people.\n"
     ]
    }
   ],
   "source": [
    "# find largest age group\n",
    "for people, age in c.execute(\"SELECT count(*), age FROM persons GROUP BY age ORDER BY count(*) DESC LIMIT 1\"):\n",
    "        print('The group with the most people is age {} with {} people.'.format(age, people))"
   ]
  },
  {
   "cell_type": "code",
   "execution_count": 41,
   "metadata": {},
   "outputs": [
    {
     "name": "stdout",
     "output_type": "stream",
     "text": [
      "60 people do not have a last name listed.\n",
      "\n",
      " The results are:\n"
     ]
    },
    {
     "data": {
      "text/plain": [
       "[(1, 'Erica', None, 22, 'south port', 2345678),\n",
       " (2, 'Jordi', None, 73, 'east port', 123456),\n",
       " (3, 'Chasity', None, 70, 'new port', 76856785),\n",
       " (4, 'Gregg', None, 31, 'new port', 76856785),\n",
       " (6, 'Cary', None, 73, 'new port', 76856785),\n",
       " (8, 'Francisca', None, 14, 'west port', 123456),\n",
       " (10, 'Raleigh', None, 68, 'new port', 2345678),\n",
       " (11, 'Maria', None, 42, 'west port', 123456),\n",
       " (12, 'Mariane', None, 62, 'south port', 9756543),\n",
       " (13, 'Mona', None, 44, 'south port', 76856785),\n",
       " (14, 'Kayla', None, 36, 'south port', 2345678),\n",
       " (15, 'Karlie', None, 35, 'west port', 123456),\n",
       " (16, 'Morris', None, 71, 'west port', 76856785),\n",
       " (17, 'Sandy', None, 23, 'east port', 2345678),\n",
       " (18, 'Hector', None, 63, 'east port', 9756543),\n",
       " (19, 'Hiram', None, 52, 'west port', 2345678),\n",
       " (20, 'Tressa', None, 59, 'new port', 123456),\n",
       " (21, 'Berry', None, 22, 'south port', 2345678),\n",
       " (22, 'Pearline', None, 73, 'new port', 9756543),\n",
       " (23, 'Maynard', None, 25, 'east port', 123456),\n",
       " (24, 'Dorian', None, 40, 'east port', 123456),\n",
       " (25, 'Mylene', None, 5, 'east port', 76856785),\n",
       " (26, 'Lafayette', None, 34, 'new port', 2345678),\n",
       " (29, 'Tara', None, 39, 'west port', 123456),\n",
       " (30, 'Destiny', None, 18, 'south port', 2345678),\n",
       " (31, 'Lesly', None, 31, 'west port', 123456),\n",
       " (32, 'Perry', None, 19, 'south port', 76856785),\n",
       " (35, 'Maritza', None, 73, 'east port', 9756543),\n",
       " (37, 'Grant', None, 61, 'east port', 76856785),\n",
       " (39, 'Laury', None, 17, 'east port', 9756543),\n",
       " (40, 'Name', None, 52, 'east port', 9756543),\n",
       " (41, 'Estefania', None, 32, 'new port', 76856785),\n",
       " (42, 'Destiney', None, 65, 'west port', 2345678),\n",
       " (43, 'Jaquelin', None, 73, 'west port', 9756543),\n",
       " (45, 'Alfonzo', None, 16, 'east port', 2345678),\n",
       " (46, 'Lisandro', None, 11, 'new port', 76856785),\n",
       " (49, 'Priscilla', None, 65, 'east port', 76856785),\n",
       " (50, 'Elenora', None, 11, 'new port', 76856785),\n",
       " (52, 'Rudolph', None, 14, 'east port', 76856785),\n",
       " (56, 'Ona', None, 35, 'east port', 9756543),\n",
       " (57, 'Rebeca', None, 50, 'new port', 76856785),\n",
       " (59, 'Sigurd', None, 12, 'west port', 76856785),\n",
       " (63, 'Alice', None, 8, 'west port', 76856785),\n",
       " (64, 'Dane', None, 24, 'west port', 9756543),\n",
       " (65, 'Judge', None, 17, 'south port', 76856785),\n",
       " (66, 'Allene', None, 9, 'new port', 9756543),\n",
       " (67, 'Jalen', None, 33, 'new port', 2345678),\n",
       " (70, 'Myron', None, 36, 'new port', 9756543),\n",
       " (73, 'Travon', None, 16, 'south port', 2345678),\n",
       " (74, 'Shayna', None, 60, 'new port', 2345678),\n",
       " (75, 'Myah', None, 14, 'east port', 2345678),\n",
       " (82, 'Letha', None, 44, 'new port', 9756543),\n",
       " (84, 'Felton', None, 74, 'east port', 2345678),\n",
       " (85, 'London', None, 66, 'east port', 9756543),\n",
       " (86, 'Koby', None, 31, 'west port', 9756543),\n",
       " (87, 'Golden', None, 35, 'east port', 76856785),\n",
       " (89, 'Anissa', None, 8, 'south port', 76856785),\n",
       " (91, 'Sid', None, 22, 'west port', 123456),\n",
       " (96, 'Ernesto', None, 69, 'east port', 9756543),\n",
       " (97, 'Josianne', None, 14, 'west port', 76856785)]"
      ]
     },
     "execution_count": 41,
     "metadata": {},
     "output_type": "execute_result"
    }
   ],
   "source": [
    "# find people with null values in last name field\n",
    "c.execute(\"SELECT * from persons WHERE last_name IS NULL\")\n",
    "results = c.fetchall()\n",
    "print(len(results), 'people do not have a last name listed.\\n\\n The results are:')\n",
    "results"
   ]
  },
  {
   "cell_type": "code",
   "execution_count": 34,
   "metadata": {},
   "outputs": [
    {
     "name": "stdout",
     "output_type": "stream",
     "text": [
      "43 people have more than one pet.\n"
     ]
    }
   ],
   "source": [
    "# count number of people with more than one pet\n",
    "c.execute(\"SELECT * FROM (SELECT count(owner_id) FROM pets GROUP BY owner_id HAVING count(owner_id) >1)\")\n",
    "results = c.fetchall()\n",
    "print(len(results), 'people have more than one pet.')"
   ]
  },
  {
   "cell_type": "code",
   "execution_count": 35,
   "metadata": {},
   "outputs": [
    {
     "name": "stdout",
     "output_type": "stream",
     "text": [
      "36 pets have had treatments.\n"
     ]
    }
   ],
   "source": [
    "# number of pets that had treatments\n",
    "c.execute(\"SELECT * FROM pets WHERE treatment_done=1\" )\n",
    "results = c.fetchall()\n",
    "print(len(results), 'pets have had treatments.')"
   ]
  },
  {
   "cell_type": "code",
   "execution_count": 37,
   "metadata": {},
   "outputs": [
    {
     "name": "stdout",
     "output_type": "stream",
     "text": [
      "16 pets of known type have had treatments.\n"
     ]
    }
   ],
   "source": [
    "# number of pets with known type that had treatments\n",
    "c.execute(\"SELECT * FROM pets WHERE treatment_done=1 AND pet_type IS NOT NULL\" )\n",
    "results = c.fetchall()\n",
    "print(len(results), 'pets of known type have had treatments.')"
   ]
  },
  {
   "cell_type": "code",
   "execution_count": 28,
   "metadata": {},
   "outputs": [
    {
     "name": "stdout",
     "output_type": "stream",
     "text": [
      "49 pets live in East Port.\n"
     ]
    }
   ],
   "source": [
    "# find number of pets in East Port\n",
    "c.execute(\"SELECT * FROM pets JOIN persons ON pets.owner_id = persons.id WHERE persons.city='east port'\")\n",
    "results = c.fetchall()\n",
    "print(len(results), 'pets live in East Port.')"
   ]
  },
  {
   "cell_type": "code",
   "execution_count": 31,
   "metadata": {},
   "outputs": [
    {
     "name": "stdout",
     "output_type": "stream",
     "text": [
      "11 pets in East Port have had treatments.\n"
     ]
    }
   ],
   "source": [
    "# find number of pets in East Port with treatments done\n",
    "c.execute(\"SELECT * FROM pets JOIN persons ON pets.owner_id = persons.id WHERE persons.city='east port' AND pets.treatment_done=1\")\n",
    "results = c.fetchall()\n",
    "print(len(results), 'pets in East Port have had treatments.')"
   ]
  },
  {
   "cell_type": "code",
   "execution_count": null,
   "metadata": {},
   "outputs": [],
   "source": []
  }
 ],
 "metadata": {
  "kernelspec": {
   "display_name": "Python 3",
   "language": "python",
   "name": "python3"
  },
  "language_info": {
   "codemirror_mode": {
    "name": "ipython",
    "version": 3
   },
   "file_extension": ".py",
   "mimetype": "text/x-python",
   "name": "python",
   "nbconvert_exporter": "python",
   "pygments_lexer": "ipython3",
   "version": "3.8.3"
  }
 },
 "nbformat": 4,
 "nbformat_minor": 4
}
